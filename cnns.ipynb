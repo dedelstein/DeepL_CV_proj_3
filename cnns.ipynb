{
 "cells": [
  {
   "cell_type": "code",
   "execution_count": null,
   "metadata": {},
   "outputs": [],
   "source": [
    "path = 'Potholes/annotated-images/'\n",
    "splits = 'Potholes/splits.json'\n",
    "data = 'proposals.pkl'\n",
    "# path = r'C:/Users/Frederik/Programming/IntroductionToComputerVison/Project_3/Potholes/annotated-images/'\n",
    "# splits = r'C:/Users/Frederik/Programming/IntroductionToComputerVison/Project_3/Potholes/splits.json'\n",
    "\n"
   ]
  },
  {
   "cell_type": "code",
   "execution_count": 49,
   "metadata": {},
   "outputs": [],
   "source": [
    "import torch\n",
    "import torch.nn as nn\n",
    "import torch.nn.functional as F\n",
    "import torchvision.models as models\n",
    "from torchvision.ops import RoIAlign\n",
    "import cv2\n",
    "import numpy as np\n",
    "import matplotlib.pyplot as plt\n",
    "from torchvision.transforms import functional as Fs\n",
    "from torchvision import transforms as v2\n",
    "import torchvision.ops as ops\n",
    "import torch\n",
    "import json\n",
    "from xml.etree import ElementTree as ET\n",
    "from torch.utils.data import DataLoader\n",
    "from torchvision.io import decode_image\n",
    "from torchvision.utils import draw_bounding_boxes\n",
    "from sklearn.model_selection import train_test_split\n",
    "from torchvision import tv_tensors\n",
    "from torchvision.transforms import v2\n",
    "import pickle\n",
    "\n",
    "\n",
    "# speed-up using multithreads\n",
    "cv2.setUseOptimized(True)\n",
    "cv2.setNumThreads(8)\n",
    "\n",
    "def selective_search(image_path, num_rects, quality=True):\n",
    "    ss = cv2.ximgproc.segmentation.createSelectiveSearchSegmentation()\n",
    "\n",
    "    image = cv2.imread(image_path)\n",
    "    ss.setBaseImage(image)\n",
    "\n",
    "    ss.switchToSelectiveSearchFast()\n",
    "        \n",
    "    rects = ss.process()\n",
    "\n",
    "    return rects[:num_rects]\n",
    "\n",
    "def show_selective_search(image, rects):\n",
    "    imOut = image.copy()\n",
    "\n",
    "    # itereate over all the region proposals\n",
    "    for _, rect in enumerate(rects):\n",
    "        # draw rectangle for region proposal\n",
    "        x, y, w, h = rect\n",
    "        color = list(np.random.random(size=3) * 256)\n",
    "        cv2.rectangle(imOut, (x, y), (x+w, y+h), color, 2, cv2.LINE_AA)\n",
    "\n",
    "    plt.imshow(imOut[...,::-1])\n",
    "    plt.axis('off')\n",
    "\n",
    "def read_xml(path: str) -> list:  \n",
    "    tree = ET.parse(path)\n",
    "    root = tree.getroot()\n",
    "\n",
    "    obj_list = []\n",
    "\n",
    "    for obj in root.iter('object'):\n",
    "\n",
    "        ymin = int(obj.find(\"bndbox/ymin\").text)\n",
    "        xmin = int(obj.find(\"bndbox/xmin\").text)\n",
    "        ymax = int(obj.find(\"bndbox/ymax\").text)\n",
    "        xmax = int(obj.find(\"bndbox/xmax\").text)\n",
    "\n",
    "        bbox = (xmin, ymin, xmax, ymax)\n",
    "        obj_list.append(bbox)\n",
    "    \n",
    "    return obj_list\n",
    "\n",
    "def collate_fn(batch):\n",
    "    return tuple(zip(*batch))\n",
    "\n",
    "def visualize_boxes(images, annotations):\n",
    "    all_images = []\n",
    "    all_overlay = []\n",
    "\n",
    "    for image, annotation in zip(images, annotations):\n",
    "        \n",
    "        overlay = draw_bounding_boxes(image, annotation, width=2)\n",
    "        all_images.append(image)\n",
    "        all_overlay.append(overlay)\n",
    "    \n",
    "    fig, axes = plt.subplots(len(all_images), 2, figsize=(10, len(all_images) * 5))\n",
    "    \n",
    "    for idx, image in enumerate(all_images):\n",
    "        axes[idx, 0].imshow(image.permute(1,2,0))\n",
    "        axes[idx, 0].axis('off')\n",
    "\n",
    "        axes[idx, 1].imshow(all_overlay[idx].permute(1,2,0))\n",
    "        axes[idx, 1].axis('off')\n",
    "\n",
    "    plt.tight_layout()\n",
    "    plt.subplots_adjust(wspace=0.02, hspace=0.02)\n",
    "    plt.show()\n",
    "        \n",
    "# class RCNN(nn.Module):\n",
    "#     def __init__(self):\n",
    "#         super(RCNN, self).__init__()\n",
    "\n",
    "#         self.convolutional1 = nn.Sequential(\n",
    "#             nn.Conv2d(3, 64, kernel_size=3, stride=1, padding=1),\n",
    "#             nn.BatchNorm2d(64),\n",
    "#             nn.ReLU(),\n",
    "#             nn.MaxPool2d(kernel_size=2, stride=2)  # 224x224 -> 112x112\n",
    "#         )\n",
    "        \n",
    "#         self.convolutional2 = nn.Sequential(\n",
    "#             nn.Conv2d(64, 128, kernel_size=3, stride=1, padding=1),\n",
    "#             nn.BatchNorm2d(128),\n",
    "#             nn.ReLU(),\n",
    "#             nn.MaxPool2d(kernel_size=2, stride=2)  # 112x112 -> 56x56\n",
    "#         )\n",
    "        \n",
    "#         self.convolutional3 = nn.Sequential(\n",
    "#             nn.Conv2d(128, 256, kernel_size=3, stride=1, padding=1),\n",
    "#             nn.BatchNorm2d(256),\n",
    "#             nn.ReLU(),\n",
    "#             nn.MaxPool2d(kernel_size=2, stride=2)  # 56x56 -> 28x28\n",
    "#         )\n",
    "        \n",
    "#         self.convolutional4 = nn.Sequential(\n",
    "#             nn.Conv2d(256, 512, kernel_size=3, stride=1, padding=1),\n",
    "#             nn.BatchNorm2d(512),\n",
    "#             nn.ReLU(),\n",
    "#             nn.MaxPool2d(kernel_size=2, stride=2)  # 28x28 -> 14x14\n",
    "#         )\n",
    "\n",
    "#         self.convolutional5 = nn.Sequential(\n",
    "#             nn.Conv2d(512, 1024, kernel_size=3, stride=1, padding=1),\n",
    "#             nn.BatchNorm2d(1024),\n",
    "#             nn.ReLU(),\n",
    "#             nn.MaxPool2d(kernel_size=2, stride=2)  # 14x14 -> 7x7\n",
    "#         )\n",
    "\n",
    "#         self.convolutional6 = nn.Sequential(\n",
    "#             nn.Conv2d(1024, 2048, kernel_size=3, stride=1, padding=1),\n",
    "#             nn.BatchNorm2d(2048),\n",
    "#             nn.ReLU(),\n",
    "#             nn.MaxPool2d(kernel_size=2, stride=2)  # 7x7 -> 3x3\n",
    "#         )\n",
    "\n",
    "#         # Fully connected layer\n",
    "#         self.fully_connected = nn.Sequential(\n",
    "#             nn.Linear(2048 * 3 * 3, 2048), \n",
    "#             nn.BatchNorm1d(2048),\n",
    "#             nn.ReLU(),\n",
    "#             nn.Dropout(0.5),\n",
    "#             nn.Linear(2048, 512),\n",
    "#             nn.BatchNorm1d(512),\n",
    "#             nn.ReLU(),\n",
    "#             nn.Dropout(0.5),\n",
    "#             nn.Linear(512, 2)\n",
    "#         )\n",
    "\n",
    "#     def forward(self, x):\n",
    "#         x = self.convolutional1(x)\n",
    "#         x = self.convolutional2(x)\n",
    "#         x = self.convolutional3(x)\n",
    "#         x = self.convolutional4(x)\n",
    "#         x = self.convolutional5(x)\n",
    "#         x = self.convolutional6(x)\n",
    "\n",
    "#         x = x.view(x.size(0), -1)\n",
    "\n",
    "#         x = self.fully_connected(x)\n",
    "#         x = x.squeeze(1) \n",
    "\n",
    "#         return x\n",
    "\n",
    "\n",
    "class RCNN(nn.Module):\n",
    "    def __init__(self):\n",
    "        super(RCNN, self).__init__()\n",
    "\n",
    "        self.convolutional1 = nn.Sequential(\n",
    "            nn.Conv2d(3, 64, kernel_size=3, stride=1, padding=1),\n",
    "            nn.BatchNorm2d(64),\n",
    "            nn.ReLU(),\n",
    "            nn.MaxPool2d(kernel_size=2, stride=2)  # 224x224 -> 112x112\n",
    "        )\n",
    "        \n",
    "        self.convolutional2 = nn.Sequential(\n",
    "            nn.Conv2d(64, 128, kernel_size=3, stride=1, padding=1),\n",
    "            nn.BatchNorm2d(128),\n",
    "            nn.ReLU(),\n",
    "            nn.MaxPool2d(kernel_size=2, stride=2)  # 112x112 -> 56x56\n",
    "        )\n",
    "        \n",
    "        self.convolutional3 = nn.Sequential(\n",
    "            nn.Conv2d(128, 256, kernel_size=3, stride=1, padding=1),\n",
    "            nn.BatchNorm2d(256),\n",
    "            nn.ReLU(),\n",
    "            nn.MaxPool2d(kernel_size=2, stride=2)  # 56x56 -> 28x28\n",
    "        )\n",
    "        \n",
    "        self.convolutional4 = nn.Sequential(\n",
    "            nn.Conv2d(256, 512, kernel_size=3, stride=1, padding=1),\n",
    "            nn.BatchNorm2d(512),\n",
    "            nn.ReLU(),\n",
    "            nn.MaxPool2d(kernel_size=2, stride=2)  # 28x28 -> 14x14\n",
    "        )\n",
    "\n",
    "        # Fully connected layer\n",
    "        self.fully_connected = nn.Sequential(\n",
    "            nn.Linear(512 * 14 * 14, 2048),  # Adjusted to match the output size after 4 conv layers\n",
    "            nn.BatchNorm1d(2048),\n",
    "            nn.ReLU(),\n",
    "            nn.Dropout(0.5),\n",
    "            nn.Linear(2048, 512),\n",
    "            nn.BatchNorm1d(512),\n",
    "            nn.ReLU(),\n",
    "            nn.Dropout(0.5),\n",
    "            nn.Linear(512, 2)\n",
    "        )\n",
    "\n",
    "    def forward(self, x):\n",
    "        x = self.convolutional1(x)\n",
    "        x = self.convolutional2(x)\n",
    "        x = self.convolutional3(x)\n",
    "        x = self.convolutional4(x)\n",
    "\n",
    "        x = x.view(x.size(0), -1)\n",
    "\n",
    "        x = self.fully_connected(x)\n",
    "        x = x.squeeze(1)\n",
    "\n",
    "        return x\n",
    "\n"
   ]
  },
  {
   "cell_type": "code",
   "execution_count": 50,
   "metadata": {},
   "outputs": [],
   "source": [
    "\n",
    "class Pothole_Dataset(torch.utils.data.Dataset):\n",
    "    def __init__(self, data, feature_size=256, pos_thresh=.7, neg_thresh=.3, val=False, device=\"cpu\"):\n",
    "        self.data = data\n",
    "        self.size = feature_size\n",
    "        self.pos_thresh = pos_thresh\n",
    "        self.neg_thresh = neg_thresh\n",
    "        self.val = val\n",
    "        self.device = device\n",
    "\n",
    "        self.transforms = v2.Compose([\n",
    "                            v2.RandomHorizontalFlip(),\n",
    "                            v2.RandomVerticalFlip()\n",
    "                          ])\n",
    "\n",
    "    def __len__(self):\n",
    "        return len(self.data)\n",
    "    \n",
    "\n",
    "    def __getitem__(self, idx):\n",
    "        datum = self.data[idx]\n",
    "        image = decode_image(datum[0]).to(self.device)\n",
    "        ground_truths = datum[1].to(self.device)\n",
    "        regions = datum[2].to(self.device)\n",
    "\n",
    "        ious = ops.box_iou(regions, ground_truths)\n",
    "\n",
    "        # Select proposals with IoU >= pos_thresh as positive samples\n",
    "        pos_indices = (ious.max(dim=1)[0] >= self.pos_thresh).nonzero(as_tuple=True)[0]\n",
    "        pos_samples = regions[pos_indices]\n",
    "\n",
    "        # Select proposals with IoU < neg_thresh as background samples\n",
    "        bg_indices = (ious.max(dim=1)[0] < self.neg_thresh).nonzero(as_tuple=True)[0]\n",
    "        num_bg = int(len(pos_samples) * 4)  # Make background samples 80% of total proposals\n",
    "        bg_samples = regions[bg_indices[:num_bg]]\n",
    "        \n",
    "        # Concatenate positive and background samples \n",
    "        selected_regions = torch.cat([pos_samples, bg_samples], dim=0) \n",
    "        region_labels = torch.cat([torch.ones(len(pos_samples), device=self.device), torch.zeros(num_bg, device=self.device)])\n",
    "\n",
    "        # Collect and stack image elements\n",
    "        batched_image = image.unsqueeze(0).float()\n",
    "        # 2. Format boxes for ROI Align\n",
    "        # ROI Align expects boxes in format (batch_idx, x1, y1, x2, y2)\n",
    "        N = len(selected_regions)\n",
    "        # Add batch index (0) as first column\n",
    "        batched_regions = torch.zeros(N, 5, device=self.device)\n",
    "        batched_regions[:, 1:] = selected_regions  # Copy x1, y1, x2, y2        \n",
    "\n",
    "        # 3. Extract ROIs using ROI Align\n",
    "        rois = ops.roi_align(\n",
    "            input=batched_image,        # (1, C, H, W)\n",
    "            boxes=batched_regions,        # (N, 5)\n",
    "            output_size=(self.size, self.size),\n",
    "            spatial_scale=1.0,          # No scaling if boxes are in absolute coords\n",
    "            aligned=True                # Better alignment with original image\n",
    "        )\n",
    "        \n",
    "        if not self.val:\n",
    "            rois = self.transforms(rois)\n",
    "        \n",
    "        return image, ground_truths, regions, selected_regions, region_labels, rois"
   ]
  },
  {
   "cell_type": "code",
   "execution_count": null,
   "metadata": {},
   "outputs": [],
   "source": [
    "feature_size = 224\n",
    "batch_size = 32\n",
    "num_workers = 1\n",
    "device = (\"cuda\" if torch.cuda.is_available() else \"cpu\")"
   ]
  },
  {
   "cell_type": "code",
   "execution_count": 60,
   "metadata": {},
   "outputs": [],
   "source": [
    "pkl_file = 'proposals.pkl'\n",
    "with open(pkl_file, 'rb') as file:\n",
    "    data = pickle.load(file)\n",
    "\n",
    "train_len = 532\n",
    "train_data = data[:train_len]\n",
    "val_data, test_data = train_test_split(data[train_len:], train_size=.5)\n",
    "\n",
    "trainset = Pothole_Dataset(train_data, feature_size=feature_size, device=device)\n",
    "valset = Pothole_Dataset(val_data, feature_size=feature_size, device=device, val=True)\n",
    "testset = Pothole_Dataset(test_data, feature_size=feature_size, device=device, val=True)\n",
    "\n",
    "train_loader = DataLoader(trainset, batch_size=batch_size, shuffle=True, num_workers=num_workers, collate_fn=collate_fn)\n",
    "val_loader= DataLoader(valset, batch_size=batch_size, shuffle=False, num_workers=num_workers, collate_fn=collate_fn)\n",
    "test_loader = DataLoader(testset, batch_size=batch_size, shuffle=False, num_workers=num_workers, collate_fn=collate_fn)"
   ]
  },
  {
   "cell_type": "code",
   "execution_count": 76,
   "metadata": {},
   "outputs": [],
   "source": [
    "images, ground_truths, regions, selected_regions, region_labels, rois = next(iter(train_loader))"
   ]
  },
  {
   "cell_type": "code",
   "execution_count": 77,
   "metadata": {},
   "outputs": [
    {
     "data": {
      "text/plain": [
       "torch.Size([40, 3, 224, 224])"
      ]
     },
     "execution_count": 77,
     "metadata": {},
     "output_type": "execute_result"
    }
   ],
   "source": [
    "rois[0].shape"
   ]
  },
  {
   "cell_type": "code",
   "execution_count": 20,
   "metadata": {},
   "outputs": [],
   "source": [
    "def unpack_and_process_batch(batch):\n",
    "    \"\"\"\n",
    "    A way to unpack the tuples we get from the dataloader, and handles cases where batches are empty.  \n",
    "    \"\"\"\n",
    "\n",
    "    images, ground_truths, regions, selected_regions, region_labels, rois = batch\n",
    "\n",
    "    all_rois = []\n",
    "    all_labels = []\n",
    "\n",
    "    for i in range(len(rois)):\n",
    "        current_rois = rois[i]  \n",
    "        current_labels = region_labels[i] \n",
    "\n",
    "        # Check if the current image has valid ROIs and labels; skip if missing\n",
    "        if current_rois.size(0) == 0 or current_labels.size(0) == 0:\n",
    "            #print(f\"Warning: Skipping image {i} in batch due to no ROIs or labels.\")\n",
    "            continue\n",
    "            \n",
    "        all_rois.append(current_rois)\n",
    "        all_labels.append(current_labels)\n",
    "\n",
    "    if all_rois:\n",
    "        processed_rois = torch.cat(all_rois, dim=0)\n",
    "        processed_labels = torch.cat(all_labels, dim=0).long()\n",
    "        return processed_rois, processed_labels\n",
    "    else:\n",
    "        #print(\"Warning: No valid ROIs or labels in the entire batch.\")\n",
    "        return torch.empty(0), torch.empty(0)"
   ]
  },
  {
   "cell_type": "markdown",
   "metadata": {},
   "source": [
    "# Pre-trained CNN"
   ]
  },
  {
   "cell_type": "code",
   "execution_count": 21,
   "metadata": {},
   "outputs": [
    {
     "name": "stderr",
     "output_type": "stream",
     "text": [
      "c:\\Users\\Frederik\\miniconda3\\Lib\\site-packages\\torchvision\\models\\_utils.py:208: UserWarning: The parameter 'pretrained' is deprecated since 0.13 and may be removed in the future, please use 'weights' instead.\n",
      "  warnings.warn(\n",
      "c:\\Users\\Frederik\\miniconda3\\Lib\\site-packages\\torchvision\\models\\_utils.py:223: UserWarning: Arguments other than a weight enum or `None` for 'weights' are deprecated since 0.13 and may be removed in the future. The current behavior is equivalent to passing `weights=ResNet50_Weights.IMAGENET1K_V1`. You can also use `weights=ResNet50_Weights.DEFAULT` to get the most up-to-date weights.\n",
      "  warnings.warn(msg)\n"
     ]
    }
   ],
   "source": [
    "import torch\n",
    "import torch.nn as nn\n",
    "import torchvision.models as models\n",
    "\n",
    "import os\n",
    "import csv\n",
    "import numpy as np\n",
    "import glob\n",
    "import PIL.Image as Image\n",
    "from tqdm.notebook import tqdm\n",
    "import seaborn as sns\n",
    "import matplotlib.pyplot as plt\n",
    "import pandas as pd\n",
    "\n",
    "\n",
    "num_classes = 2  # 1 class + 1 background class\n",
    "num_epochs = 10\n",
    "device = torch.device('cuda' if torch.cuda.is_available() else 'cpu')\n",
    "model = models.resnet50(pretrained=True)\n",
    "model = model.to(device)\n",
    "model.fc = nn.Linear(model.fc.in_features, num_classes) \n",
    "\n",
    "# Freeze all layers\n",
    "for param in model.parameters():\n",
    "    param.requires_grad = False\n",
    "\n",
    "# Unfreeze the final fully connected layer\n",
    "for param in model.fc.parameters():\n",
    "    param.requires_grad = True\n",
    "\n",
    "optimizer = torch.optim.AdamW(model.fc.parameters(), lr=0.001, weight_decay=1e-4)\n",
    "criterion = nn.CrossEntropyLoss()\n",
    "\n"
   ]
  },
  {
   "cell_type": "code",
   "execution_count": null,
   "metadata": {},
   "outputs": [],
   "source": [
    "def finetune_CNN(model, dataloader, optimizer, criterion, num_epochs):\n",
    "    mini_batch = 64\n",
    "    device = torch.device('cuda' if torch.cuda.is_available() else 'cpu')\n",
    "    model = model.to(device)\n",
    "    model.train()\n",
    "    \n",
    "    for epoch in tqdm(range(num_epochs), unit='epoch'):\n",
    "        model.train()  # Set model to training mode\n",
    "        running_loss = 0.0\n",
    "        train_correct = 0\n",
    "        total_samples = 0\n",
    "\n",
    "        for batch in tqdm(dataloader, desc=f\"Epoch {epoch+1}/{num_epochs}\", unit=\"batch\"):\n",
    "            rois, labels = unpack_and_process_batch(batch)\n",
    "\n",
    "            # batches can come in very high amounts, so to ensure even batch we use split\n",
    "            # does come at the cost of gradients from minibatch of the rois. \n",
    "            rois = torch.split(rois, mini_batch)\n",
    "            labels = torch.split(labels, mini_batch)\n",
    "\n",
    "            for batch_rois, batch_labels in zip(rois, labels):\n",
    "                batch_rois = batch_rois.to(device)\n",
    "                batch_labels = batch_labels.to(device)\n",
    "\n",
    "                optimizer.zero_grad()\n",
    "                output = model(batch_rois)\n",
    "            \n",
    "                loss = criterion(output, batch_labels) \n",
    "                predicted = output.argmax(dim=1)  \n",
    "\n",
    "                loss.backward()\n",
    "                optimizer.step()\n",
    "\n",
    "                running_loss += loss.item()\n",
    "                train_correct += (predicted == batch_labels).sum().item()\n",
    "                total_samples += batch_labels.size(0)\n",
    "\n",
    "        epoch_loss = running_loss / len(dataloader)\n",
    "        accuracy = 100 * train_correct / total_samples\n",
    "        print(f'Epoch {epoch+1}/{num_epochs}, Train Loss: {epoch_loss:.4f}, Train Accuracy: {accuracy:.2f}%')\n"
   ]
  },
  {
   "cell_type": "code",
   "execution_count": 39,
   "metadata": {},
   "outputs": [
    {
     "data": {
      "application/vnd.jupyter.widget-view+json": {
       "model_id": "e2b4a975c1aa4af3844e77dc2aa45407",
       "version_major": 2,
       "version_minor": 0
      },
      "text/plain": [
       "  0%|          | 0/10 [00:00<?, ?epoch/s]"
      ]
     },
     "metadata": {},
     "output_type": "display_data"
    },
    {
     "data": {
      "application/vnd.jupyter.widget-view+json": {
       "model_id": "010719f07fe5499393ce5a619c3d0306",
       "version_major": 2,
       "version_minor": 0
      },
      "text/plain": [
       "Epoch 1/10:   0%|          | 0/89 [00:00<?, ?batch/s]"
      ]
     },
     "metadata": {},
     "output_type": "display_data"
    },
    {
     "name": "stdout",
     "output_type": "stream",
     "text": [
      "Epoch 1/10, Train Loss: 1.8399, Train Accuracy: 83.84%\n"
     ]
    },
    {
     "data": {
      "application/vnd.jupyter.widget-view+json": {
       "model_id": "b52cf5ca317449d7be4837ba8b114cea",
       "version_major": 2,
       "version_minor": 0
      },
      "text/plain": [
       "Epoch 2/10:   0%|          | 0/89 [00:00<?, ?batch/s]"
      ]
     },
     "metadata": {},
     "output_type": "display_data"
    },
    {
     "name": "stdout",
     "output_type": "stream",
     "text": [
      "Epoch 2/10, Train Loss: 1.6090, Train Accuracy: 86.85%\n"
     ]
    },
    {
     "data": {
      "application/vnd.jupyter.widget-view+json": {
       "model_id": "4141dddfb74b47498d57936c5d0e9330",
       "version_major": 2,
       "version_minor": 0
      },
      "text/plain": [
       "Epoch 3/10:   0%|          | 0/89 [00:00<?, ?batch/s]"
      ]
     },
     "metadata": {},
     "output_type": "display_data"
    },
    {
     "name": "stdout",
     "output_type": "stream",
     "text": [
      "Epoch 3/10, Train Loss: 1.6170, Train Accuracy: 86.61%\n"
     ]
    },
    {
     "data": {
      "application/vnd.jupyter.widget-view+json": {
       "model_id": "b490a73491914e69b8fb46d15ed4b647",
       "version_major": 2,
       "version_minor": 0
      },
      "text/plain": [
       "Epoch 4/10:   0%|          | 0/89 [00:00<?, ?batch/s]"
      ]
     },
     "metadata": {},
     "output_type": "display_data"
    },
    {
     "name": "stdout",
     "output_type": "stream",
     "text": [
      "Epoch 4/10, Train Loss: 1.5677, Train Accuracy: 87.01%\n"
     ]
    },
    {
     "data": {
      "application/vnd.jupyter.widget-view+json": {
       "model_id": "cac9a6279d554cfdbacdc4f4c8fed300",
       "version_major": 2,
       "version_minor": 0
      },
      "text/plain": [
       "Epoch 5/10:   0%|          | 0/89 [00:00<?, ?batch/s]"
      ]
     },
     "metadata": {},
     "output_type": "display_data"
    },
    {
     "name": "stdout",
     "output_type": "stream",
     "text": [
      "Epoch 5/10, Train Loss: 1.4470, Train Accuracy: 88.15%\n"
     ]
    },
    {
     "data": {
      "application/vnd.jupyter.widget-view+json": {
       "model_id": "18fb68f765774af4bcb8faa2f233ca17",
       "version_major": 2,
       "version_minor": 0
      },
      "text/plain": [
       "Epoch 6/10:   0%|          | 0/89 [00:00<?, ?batch/s]"
      ]
     },
     "metadata": {},
     "output_type": "display_data"
    },
    {
     "name": "stdout",
     "output_type": "stream",
     "text": [
      "Epoch 6/10, Train Loss: 1.4141, Train Accuracy: 88.35%\n"
     ]
    },
    {
     "data": {
      "application/vnd.jupyter.widget-view+json": {
       "model_id": "703ef72800bd4627a91587c26c64bc1c",
       "version_major": 2,
       "version_minor": 0
      },
      "text/plain": [
       "Epoch 7/10:   0%|          | 0/89 [00:00<?, ?batch/s]"
      ]
     },
     "metadata": {},
     "output_type": "display_data"
    },
    {
     "name": "stdout",
     "output_type": "stream",
     "text": [
      "Epoch 7/10, Train Loss: 1.5466, Train Accuracy: 87.60%\n"
     ]
    },
    {
     "data": {
      "application/vnd.jupyter.widget-view+json": {
       "model_id": "5eb19a5fbc044ef788469ed76e01fd60",
       "version_major": 2,
       "version_minor": 0
      },
      "text/plain": [
       "Epoch 8/10:   0%|          | 0/89 [00:00<?, ?batch/s]"
      ]
     },
     "metadata": {},
     "output_type": "display_data"
    },
    {
     "name": "stdout",
     "output_type": "stream",
     "text": [
      "Epoch 8/10, Train Loss: 1.5697, Train Accuracy: 87.41%\n"
     ]
    },
    {
     "data": {
      "application/vnd.jupyter.widget-view+json": {
       "model_id": "d39367d874604d5ca741de83540375a6",
       "version_major": 2,
       "version_minor": 0
      },
      "text/plain": [
       "Epoch 9/10:   0%|          | 0/89 [00:00<?, ?batch/s]"
      ]
     },
     "metadata": {},
     "output_type": "display_data"
    },
    {
     "name": "stdout",
     "output_type": "stream",
     "text": [
      "Epoch 9/10, Train Loss: 1.5063, Train Accuracy: 88.42%\n"
     ]
    },
    {
     "data": {
      "application/vnd.jupyter.widget-view+json": {
       "model_id": "1c58f855d4be47ff9c7306aaa21b6469",
       "version_major": 2,
       "version_minor": 0
      },
      "text/plain": [
       "Epoch 10/10:   0%|          | 0/89 [00:00<?, ?batch/s]"
      ]
     },
     "metadata": {},
     "output_type": "display_data"
    },
    {
     "name": "stdout",
     "output_type": "stream",
     "text": [
      "Epoch 10/10, Train Loss: 1.4275, Train Accuracy: 88.61%\n"
     ]
    }
   ],
   "source": [
    "finetune_CNN(model, train_loader, optimizer, criterion, num_epochs)"
   ]
  },
  {
   "cell_type": "markdown",
   "metadata": {},
   "source": [
    "# homebrew CNN"
   ]
  },
  {
   "cell_type": "code",
   "execution_count": null,
   "metadata": {},
   "outputs": [],
   "source": [
    "import os\n",
    "import csv\n",
    "import numpy as np\n",
    "import glob\n",
    "import PIL.Image as Image\n",
    "from tqdm.notebook import tqdm\n",
    "import seaborn as sns\n",
    "import matplotlib.pyplot as plt\n",
    "import pandas as pd\n",
    "\n",
    "\n",
    "# Training loop from Hot-dog not hotdog so its a bit different from pre-trained training loop. \n",
    "def startTrain(model, criterion, optimizer, num_epochs, save_model=True, model_name=\"model\"):\n",
    "    mini_batch = 64\n",
    "    device = torch.device('cuda' if torch.cuda.is_available() else 'cpu')\n",
    "    log_file = f\"{model_name}_training_log.csv\"\n",
    "    \n",
    "    with open(log_file, mode='w+', newline='') as file:\n",
    "        writer = csv.writer(file)\n",
    "        writer.writerow([\"epoch\", \"train_loss\", \"test_loss\", \"train_acc\", \"test_acc\"]) \n",
    "\n",
    "    out_dict = {'train_acc': [],\n",
    "                'test_acc': [],\n",
    "                'train_loss': [],\n",
    "                'test_loss': []}\n",
    "\n",
    "    model.to(device)\n",
    "    for epoch in tqdm(range(num_epochs), unit='epoch'):\n",
    "        model.train()  # set train mode\n",
    "        train_correct = 0\n",
    "        train_total = 0\n",
    "        train_loss = []\n",
    "\n",
    "        for batch in tqdm(train_loader, desc=f\"Epoch {epoch+1}/{num_epochs}\", unit=\"batch\"):\n",
    "            rois, labels = unpack_and_process_batch(batch)\n",
    "            \n",
    "            # ensures batch_size never causes vram problems\n",
    "            rois = torch.split(rois, mini_batch)\n",
    "            labels = torch.split(labels, mini_batch)\n",
    "            \n",
    "            for batch_rois, batch_labels in zip(rois, labels):\n",
    "                batch_rois = batch_rois.to(device)\n",
    "                batch_labels = batch_labels.to(device)\n",
    "\n",
    "                # Skip the batch if the batch size is 1 as it conflicts with BatchNorm\n",
    "                if batch_rois.size(0) == 1:\n",
    "                    continue\n",
    "\n",
    "                optimizer.zero_grad()\n",
    "                output = model(batch_rois)\n",
    "\n",
    "                predicted = torch.softmax(output, dim=1) \n",
    "                predicted_class = torch.argmax(predicted, dim=1)\n",
    "\n",
    "                loss = criterion(output, batch_labels)\n",
    "\n",
    "                loss.backward()\n",
    "                optimizer.step()\n",
    "\n",
    "                # Compare predicted class with label_batch\n",
    "                train_correct += (batch_labels == predicted_class).sum().item()\n",
    "                train_total += batch_labels.size(0)\n",
    "                train_loss.append(loss.item())\n",
    "\n",
    "\n",
    "        train_acc = train_correct / train_total\n",
    "\n",
    "        out_dict['train_acc'].append(train_acc)\n",
    "        out_dict['train_loss'].append(np.mean(train_loss))\n",
    "\n",
    "        print(f\"Epoch {epoch+1}\")\n",
    "        print(f\"Loss train: {np.mean(train_loss):.3f}\\t\",\n",
    "              f\"Accuracy train: {train_acc * 100:.1f}%\\t\")\n",
    "\n",
    "        with open(log_file, mode='a', newline='') as file:\n",
    "            writer = csv.writer(file)\n",
    "            writer.writerow([epoch + 1, np.mean(train_loss), train_acc])\n",
    "\n",
    "    if save_model:\n",
    "        model_save_path = f\"{model_name}.pt\"\n",
    "        torch.save(model.state_dict(), model_save_path)\n",
    "        print(f\"Succesfully saved as: {model_save_path}\")\n",
    "    \n",
    "    return out_dict\n",
    "\n",
    "\n",
    "# Plotting function\n",
    "def plot_func(out_dict, acc_title=\"Train Accuracy over Epochs\", loss_title=\"Train Loss over Epochs\"):\n",
    "    sns.set(style=\"whitegrid\")\n",
    "    \n",
    "    # Prepare the data for plotting\n",
    "    epochs = range(1, len(out_dict['train_acc']) + 1)\n",
    "    \n",
    "    # Create subplots\n",
    "    fig, axes = plt.subplots(1, 2, figsize=(14, 6))\n",
    "    \n",
    "    # Plot Accuracy with Seaborn\n",
    "    sns.lineplot(x=epochs, y=out_dict['train_acc'], ax=axes[0], marker='o', label='Train Accuracy')\n",
    "    #sns.lineplot(x=epochs, y=out_dict['test_acc'], ax=axes[0], marker='o', label='Test Accuracy')\n",
    "    axes[0].set_title(acc_title)\n",
    "    axes[0].set_xlabel('Epochs')\n",
    "    axes[0].set_ylabel('Accuracy')\n",
    "    axes[0].set_ylim(0.5, 1)  \n",
    "    axes[0].set_xticks(epochs)\n",
    "    axes[0].legend()\n",
    "\n",
    "    # Plot Loss with Seaborn\n",
    "    sns.lineplot(x=epochs, y=out_dict['train_loss'], ax=axes[1], marker='o', label='Train Loss')\n",
    "    #sns.lineplot(x=epochs, y=out_dict['test_loss'], ax=axes[1], marker='o', label='Test Loss')\n",
    "    axes[1].set_title(loss_title)\n",
    "    axes[1].set_xlabel('Epochs')\n",
    "    axes[1].set_ylabel('Cross-Entropy Loss')\n",
    "    axes[1].set_xticks(epochs)\n",
    "    axes[1].legend()\n",
    "    \n",
    "    # Layout adjustment\n",
    "    plt.tight_layout()\n",
    "    plt.show()\n"
   ]
  },
  {
   "cell_type": "code",
   "execution_count": 47,
   "metadata": {},
   "outputs": [
    {
     "data": {
      "application/vnd.jupyter.widget-view+json": {
       "model_id": "e8f2c19c33a944fe876ca7c59006ba4b",
       "version_major": 2,
       "version_minor": 0
      },
      "text/plain": [
       "  0%|          | 0/2 [00:00<?, ?epoch/s]"
      ]
     },
     "metadata": {},
     "output_type": "display_data"
    },
    {
     "data": {
      "application/vnd.jupyter.widget-view+json": {
       "model_id": "f19837877bea4bdd8d53658371fad558",
       "version_major": 2,
       "version_minor": 0
      },
      "text/plain": [
       "Epoch 1/2:   0%|          | 0/89 [00:00<?, ?batch/s]"
      ]
     },
     "metadata": {},
     "output_type": "display_data"
    },
    {
     "name": "stdout",
     "output_type": "stream",
     "text": [
      "Epoch 1\n",
      "Loss train: 0.399\t Accuracy train: 81.5%\t\n"
     ]
    },
    {
     "data": {
      "application/vnd.jupyter.widget-view+json": {
       "model_id": "06688b9c4eed4eaabc72596716440b4c",
       "version_major": 2,
       "version_minor": 0
      },
      "text/plain": [
       "Epoch 2/2:   0%|          | 0/89 [00:00<?, ?batch/s]"
      ]
     },
     "metadata": {},
     "output_type": "display_data"
    },
    {
     "name": "stdout",
     "output_type": "stream",
     "text": [
      "Epoch 2\n",
      "Loss train: 0.339\t Accuracy train: 84.6%\t\n",
      "Succesfully saved as: CNN_object_detection.pt\n"
     ]
    },
    {
     "data": {
      "image/png": "[encoded data removed]",
      "text/plain": [
       "<Figure size 1400x600 with 2 Axes>"
      ]
     },
     "metadata": {},
     "output_type": "display_data"
    }
   ],
   "source": [
    "# Using model above\n",
    "model1 = RCNN()\n",
    "\n",
    "# Redundant\n",
    "device = torch.device('cuda' if torch.cuda.is_available() else 'cpu')\n",
    "model1.to(device)\n",
    "\n",
    "criterion = nn.CrossEntropyLoss()\n",
    "optimizer = torch.optim.AdamW(model1.parameters(), lr=0.001, weight_decay=0.001)\n",
    "num_epochs = 2\n",
    "\n",
    "out_dict = startTrain(model_name = \"CNN_object_detection\", model=model1, criterion=criterion, optimizer=optimizer, num_epochs = num_epochs, save_model=True)\n",
    "\n",
    "plot_func(out_dict)\n",
    "\n"
   ]
  },
  {
   "cell_type": "markdown",
   "metadata": {},
   "source": [
    "# NOTE: the above only shows train accuracy and loss. "
   ]
  }
 ],
 "metadata": {
  "kernelspec": {
   "display_name": "base",
   "language": "python",
   "name": "python3"
  },
  "language_info": {
   "codemirror_mode": {
    "name": "ipython",
    "version": 3
   },
   "file_extension": ".py",
   "mimetype": "text/x-python",
   "name": "python",
   "nbconvert_exporter": "python",
   "pygments_lexer": "ipython3",
   "version": "3.12.3"
  }
 },
 "nbformat": 4,
 "nbformat_minor": 2
}
